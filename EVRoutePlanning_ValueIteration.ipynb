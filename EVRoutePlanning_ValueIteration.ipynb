{
 "cells": [
  {
   "cell_type": "code",
   "execution_count": null,
   "metadata": {
    "id": "Il-Wk5Sspx-L"
   },
   "outputs": [],
   "source": [
    "#### Script written by Yash Gupta ####"
   ]
  },
  {
   "cell_type": "code",
   "execution_count": 1,
   "metadata": {
    "id": "tWzokFbUp33j"
   },
   "outputs": [],
   "source": [
    "# Import libraries!\n",
    "import numpy as np\n",
    "import pandas as pd\n",
    "import scipy.stats as ss\n",
    "from datetime import datetime, timedelta\n",
    "import matplotlib.pyplot as plt"
   ]
  },
  {
   "cell_type": "code",
   "execution_count": 2,
   "metadata": {
    "id": "vxhcNr-ep36p"
   },
   "outputs": [],
   "source": [
    "'''\n",
    "Below class creates an environment/map with each node as a charging station or just a freeway/road.\n",
    "Details for later additions to the class to be explained soon!!\n",
    "\n",
    "'''\n",
    "\n",
    "class EVRoutePlanning_ValueIteration:\n",
    "    def __init__(\n",
    "        self,\n",
    "        X: int = 10,\n",
    "        Y: int = 10,\n",
    "        grid_length: int = 10,\n",
    "        num_chargers: int = 10\n",
    "    ):\n",
    "        self.X = X # size of map/grid in X direction\n",
    "        self.Y = Y # size of map/grid in Y direction\n",
    "        self.grid_length = grid_length # length/size of grid(square) in miles\n",
    "        self.map_shape = (self.X, self.Y)\n",
    "        self.num_chargers = num_chargers # total number of chargers on the map\n",
    "        self.map, self.charging_stations = self._initialize_map_with_charging_stations()\n",
    "        self.charging_wait_times = {} # dictionary for wait times (in minutes) for every charger at each hour of the day\n",
    "        self.origin = 0 # index of origin on the map/grid\n",
    "        self.destination = 0 # index of destination on the map/grid\n",
    "        self.start_time = datetime.fromisoformat(\"2023-03-01\") # start time of the journey\n",
    "        self.start_soc = 0.85 # start soc of the journey\n",
    "        self.desired_soc = 0.5 # desired soc at the end of the journey\n",
    "        self.vehicle_range = 400 # maximum range of the car in miles\n",
    "        self.minimum_journey_time = 0 # minimum time(in minutes) required to reach the destination\n",
    "        self.max_soc = 0.95 # max soc upto which charging is recommended\n",
    "        self.min_soc = 0.15 # min soc going below which isn't recommended\n",
    "        self.charging_rate = 5 # charging rate = 5 miles/minute\n",
    "        self.position_reward = np.zeros(shape = self.map_shape) # rewards based on positions on the map/grid\n",
    "        self.value_function = np.zeros(shape = self.map_shape) # value function for each positions on the map/grid\n",
    "\n",
    "    \n",
    "    def _initialize_map_with_charging_stations(self):\n",
    "        map = np.zeros(shape = self.map_shape, dtype = int)\n",
    "        charging_stations = np.random.choice(np.arange(self.X * self.Y - 1, dtype = int), \n",
    "                                             size = self.num_chargers, \n",
    "                                             replace = False)\n",
    "        for index in charging_stations:\n",
    "            i, j = np.unravel_index(index, shape = self.map_shape)\n",
    "            map[i][j] = 1\n",
    "        \n",
    "        return map, charging_stations\n",
    "    \n",
    "    def generate_wait_time_distribution_per_charger(self, prob_peak_hour, list_sd_hours, list_peak_wait_time, prob_peak_wait_time):\n",
    "        '''prob_peak_hour is a list of size 24 with probability values such that peak time(hour) \n",
    "        of the day for a charger occurs at hour \"i\" i.e., P(peak_hour == i) = prob_peak_hour[i]\n",
    "        Note - sum(prob_peak_hour) should be equal to 1, ofcourse!! \n",
    "        \n",
    "        list_sd_hours is a list of choices given for choosing the standard deviation of the \n",
    "        wait time distributon at each charger. An example of this list could be [2, 3, 4] or \n",
    "        [3, 4, 5] or even [4] which means a fixed standard deviation of 4 hours for each charger.\n",
    "\n",
    "        list_peak_wait_time is a list of choices given for choosing the expected wait time at \n",
    "        peak hour of the day for each charger. An example of this list could be [20, 30, 40, 50]\n",
    "        or [25, 30, 35, 40, 50, 60]. We can also give as input, in prob_peak_wait_time, the \n",
    "        probability for each wait time choices in the list to make it more realistic.\n",
    "        '''\n",
    "\n",
    "        list_hours = np.arange(24, dtype = int)\n",
    "        for charger_index in self.charging_stations:\n",
    "            peak_hour = np.random.choice(a = list_hours, \n",
    "                                         size = 1, \n",
    "                                         p = prob_peak_hour)\n",
    "            sd_hour = np.random.choice(a = list_sd_hours,\n",
    "                                       size = 1)\n",
    "            peak_wait_time = np.random.choice(a = list_peak_wait_time,\n",
    "                                              size = 1,\n",
    "                                              p = prob_peak_wait_time)\n",
    "\n",
    "            # create a random variable for wait time distribution\n",
    "            # Please refer to scipy.stats.truncnorm for details of the following distribution\n",
    "            a = -12 / sd_hour\n",
    "            b = 11 / sd_hour\n",
    "            rv = ss.truncnorm(a, b, loc = peak_hour, scale = sd_hour)\n",
    "            peak_pdf = rv.pdf(peak_hour)\n",
    "            for i in range(-12, 12):\n",
    "                hour = (i + peak_hour + 24) % 24\n",
    "                wait_time = int(rv.pdf(i + peak_hour) / peak_pdf * peak_wait_time)\n",
    "                key = str(charger_index) + ',' + str(hour[0])\n",
    "                self.charging_wait_times[key] = wait_time\n",
    "        return\n",
    "\n",
    "    def create_journey(self, origin, destination, start_time, start_soc = 0.85, desired_soc = 0.5, vehicle_range = 220):\n",
    "        '''This function allows us to create a journey for an origin-destination pair. \n",
    "        It simply means that we now have a game/problem for our given environment/map \n",
    "        for which we need to do route planning/finding the best optimal policy.\n",
    "        \n",
    "        minimum_journey_time is estimated using the origin-destination to calculate \n",
    "        total distance to be travelled, start soc, desired soc, vehicle range, \n",
    "        average vehicle speed and charging speed'''\n",
    "\n",
    "        x_origin, y_origin = np.unravel_index(origin, shape = self.map_shape)\n",
    "        x_destination, y_destination = np.unravel_index(destination, shape = self.map_shape)\n",
    "        L1_distance_org_dest = abs(x_origin - x_destination) + abs(y_origin - y_destination)\n",
    "        total_journey_distance = L1_distance_org_dest * self.grid_length # in miles\n",
    "        dest_soc = start_soc - total_journey_distance / self.vehicle_range # soc at destination if not charged\n",
    "        required_charging_time = int((desired_soc - dest_soc) * self.vehicle_range / self.charging_rate) # answer in minutes\n",
    "        minimum_journey_time = total_journey_distance + required_charging_time # in minutes - assuming average vehicle speed of 1 miles/min\n",
    "\n",
    "        self.origin = origin\n",
    "        self.destination = destination\n",
    "        self.start_time = start_time\n",
    "        self.start_soc = start_soc\n",
    "        self.desired_soc = desired_soc\n",
    "        self.vehicle_range = vehicle_range\n",
    "        self.minimum_journey_time = minimum_journey_time\n",
    "        return\n",
    "\n",
    "        \n",
    "    def initialize_position_rewards(self, weight_L1 = 0.1, dest_over_org = 1):\n",
    "        '''origin takes the index of charging station from which we start our journey while\n",
    "        destination takes the index of the charging station where we end our journey. To get \n",
    "        (x, y) pair of coordinates we will unravel these indices. To initialize the rewards \n",
    "        based on positions, we need to define a distance metric. Our goal is to have higher \n",
    "        rewards for positions closer to the shortest path b/w origin and destination and lower \n",
    "        or even negative rewards for positions farther from the shortest path.\n",
    "        \n",
    "        weight_L1 is a hyperparameter that controls the weights of L1 distance relative to \n",
    "        L2 distance in computing the rewards for each position. Note that the value of \n",
    "        weight_L1 should be in the range [0,1]. default value is 0.1\n",
    "        \n",
    "        dest_over_org is another hyperparameter that controls the relative importance of \n",
    "        closing in on destination while moving away from origin. Rationally, we would want \n",
    "        dest_over_org > 1 at all times. default value is 1'''\n",
    "\n",
    "        x_origin, y_origin = np.unravel_index(self.origin, shape = self.map_shape)\n",
    "        x_destination, y_destination = np.unravel_index(self.destination, shape = self.map_shape)\n",
    "        L1_distance_org_dest = abs(x_origin - x_destination) + abs(y_origin - y_destination)\n",
    "        L2_distance_org_dest = np.sqrt((x_origin - x_destination)**2 + (y_origin - y_destination)**2)\n",
    "        \n",
    "        for i in range(self.X):\n",
    "            for j in range(self.Y):\n",
    "                L1_distance_cur_pos_dest = abs(i - x_destination) + abs(j - y_destination)\n",
    "                L2_distance_cur_pos_dest = np.sqrt((i - x_destination)**2 + (j - y_destination)**2)\n",
    "                dest_reward = weight_L1 * (L1_distance_org_dest - L1_distance_cur_pos_dest) + (1 - weight_L1) * (L2_distance_org_dest - L2_distance_cur_pos_dest)\n",
    "                dest_reward = weight_L1 * np.exp((L1_distance_org_dest - L1_distance_cur_pos_dest) / L1_distance_org_dest * dest_over_org) + (1 - weight_L1) * np.exp((L2_distance_org_dest - L2_distance_cur_pos_dest) / L2_distance_org_dest * dest_over_org)\n",
    "                L1_distance_cur_pos_org = abs(i - x_origin) + abs(j - y_origin)\n",
    "                L2_distance_cur_pos_org = np.sqrt((i - x_origin)**2 + (j - y_origin)**2)\n",
    "                org_reward = weight_L1 * (L1_distance_org_dest - L1_distance_cur_pos_org) + (1 - weight_L1) * (L2_distance_org_dest - L2_distance_cur_pos_org)\n",
    "                org_reward = weight_L1 * np.exp((L1_distance_org_dest - L1_distance_cur_pos_org) / L1_distance_org_dest) + (1 - weight_L1) * np.exp((L2_distance_org_dest - L2_distance_cur_pos_org) / L2_distance_org_dest)\n",
    "                cur_pos_reward = dest_over_org * dest_reward + org_reward\n",
    "                cur_pos_reward = dest_reward + org_reward\n",
    "                self.position_reward[i][j] = cur_pos_reward\n",
    "        \n",
    "        # Normalize the rewards based in the rewards range for time_reward and soc_reward\n",
    "        self.position_reward = self.position_reward / np.max(self.position_reward) * 100\n",
    "        self.position_reward[x_destination][y_destination] = 2 * (np.max(self.position_reward) - np.min(self.position_reward)) # very high reward for destination\n",
    "        self.position_reward[x_origin][y_origin] = 0\n",
    "\n",
    "        # Initialize value function using position rewards\n",
    "        discount_factor = 0.8 # choice based on how much we want our positions rewards to spread and act as a route guide\n",
    "        self._initialize_value_function(discount_factor = discount_factor)\n",
    "\n",
    "        return\n",
    "    \n",
    "    def _initialize_value_function(self, discount_factor = 0.8):\n",
    "        self.value_function = np.copy(self.position_reward) # initialize value function as position rewards\n",
    "        num_iterations = 2 * int(1/(1 - discount_factor))\n",
    "        for itr in range(num_iterations):\n",
    "            for i in range(self.X):\n",
    "                for j in range(self.Y):\n",
    "                    current_state = (i, j, self.start_time, self.start_soc)\n",
    "                    best_action, max_action_value_function, next_state = self._find_best_action(current_state=current_state, \n",
    "                                                                                            discount_factor=discount_factor, \n",
    "                                                                                            initializing_value_function=True)\n",
    "                    self.value_function[i][j] = max_action_value_function\n",
    "\n",
    "        return\n",
    "\n",
    "    def _transition_model(self, current_state, action):\n",
    "        '''current_state is in the form of (x_cur, y_cur, time_cur, soc_cur) and it returns \n",
    "        the final state reached by taking the given action. Remember that our action space \n",
    "        is [left, right, up, down] which is indexed as [0, 1, 2, 3]'''\n",
    "\n",
    "        x_cur, y_cur, time_cur, soc_cur = current_state\n",
    "        time_fin = time_cur + timedelta(minutes = self.grid_length) # assuming average speed of 1 miles/min\n",
    "        soc_fin = soc_cur - self.grid_length / self.vehicle_range # assuming constant discharge over range\n",
    "        hit_the_wall = False # to record if we hit the wall by taking the given action\n",
    "        if(action == 0):\n",
    "            y_fin = y_cur\n",
    "            x_fin = x_cur - 1\n",
    "            if(x_fin < 0):\n",
    "                hit_the_wall = True\n",
    "        elif(action == 1):\n",
    "            y_fin = y_cur\n",
    "            x_fin = x_cur + 1\n",
    "            if(x_fin >= self.X):\n",
    "                hit_the_wall = True\n",
    "        elif(action == 2):\n",
    "            x_fin = x_cur\n",
    "            y_fin = y_cur - 1\n",
    "            if(y_fin < 0):\n",
    "                hit_the_wall = True\n",
    "        elif(action == 3):\n",
    "            x_fin = x_cur\n",
    "            y_fin = y_cur + 1\n",
    "            if(y_fin >= self.Y):\n",
    "                hit_the_wall = True\n",
    "        else:\n",
    "            print('Action not allowed!') # give error message\n",
    "        \n",
    "        # Return initial state if you hit the wall as no state transition occurs!!\n",
    "        if(hit_the_wall):\n",
    "            return current_state, hit_the_wall\n",
    "\n",
    "        # Check if the final position is a charging station\n",
    "        if(self.map[x_fin][y_fin] == 1):\n",
    "            charger_index = np.ravel_multi_index((x_fin, y_fin), self.map_shape)\n",
    "            key = str(charger_index) + ',' + str(time_fin.hour)\n",
    "            wait_time = self.charging_wait_times[key]\n",
    "            time_fin = time_fin + timedelta(minutes = wait_time) # add waiting time to final time\n",
    "            charging_time = int((self.max_soc - soc_fin) * self.vehicle_range / self.charging_rate) # answer in minutes\n",
    "            time_fin = time_fin + timedelta(minutes = charging_time) # add charging time to the final time\n",
    "            buffer_time = np.random.choice([5.,10.]) # assuming 5 or 10 minutes buffer time for charging set up and hitting the road\n",
    "            time_fin = time_fin + timedelta(minutes = buffer_time)\n",
    "            soc_fin = self.max_soc # charging is done!\n",
    "        \n",
    "        final_state = (x_fin, y_fin, time_fin, soc_fin)\n",
    "\n",
    "        return final_state, hit_the_wall\n",
    "    \n",
    "    def _reward_for_state(self, state):\n",
    "        x, y, time, soc = state\n",
    "\n",
    "        # reward based on the soc of the state\n",
    "        soc_reward = (soc - self.min_soc) / (self.max_soc - self.min_soc) * 100\n",
    "\n",
    "        # required parameters for calculating time based reward\n",
    "        time_travelled_till_now = int((time - self.start_time) / timedelta(minutes=1)) # in minutes\n",
    "\n",
    "        x_destination, y_destination = np.unravel_index(self.destination, shape = self.map_shape)\n",
    "        L1_distance_state_dest = abs(x - x_destination) + abs(y - y_destination)\n",
    "        total_journey_distance = L1_distance_state_dest * self.grid_length # in miles\n",
    "        dest_soc = soc - total_journey_distance / self.vehicle_range # soc at destination if not charged\n",
    "        required_charging_time = int((self.desired_soc - dest_soc) * self.vehicle_range / self.charging_rate) # answer in minutes\n",
    "        state_journey_time = total_journey_distance + required_charging_time # in minutes\n",
    "\n",
    "        # reward based on the time of the state\n",
    "        importance_of_time = 5 # hyperparameter \n",
    "        time_reward = 100 * np.exp((self.minimum_journey_time - time_travelled_till_now - state_journey_time) / self.minimum_journey_time * importance_of_time)\n",
    "        # To-Do: Think more about the function or time reward\n",
    "\n",
    "        return soc_reward + time_reward\n",
    "    \n",
    "    def _find_best_action(self, current_state, discount_factor, initializing_value_function = False):\n",
    "        '''Returns the best action to take for the current state after calculating the values \n",
    "        of action value function for each action'''\n",
    "\n",
    "        x_cur, y_cur, time_cur, soc_cur = current_state # extracting the variables associated with the current state\n",
    "        if(initializing_value_function):\n",
    "            current_reward = self.position_reward[x_cur][y_cur] # only position rewards if initializing value function\n",
    "        else:\n",
    "            current_reward = self.position_reward[x_cur][y_cur] + self._reward_for_state(current_state)\n",
    "        \n",
    "        action_value_function = np.zeros(4) # value function for all 4 possible actions\n",
    "        list_next_state = [] # store next state for each action\n",
    "        for action in range(4):\n",
    "            next_state, hit_the_wall = self._transition_model(current_state, action)\n",
    "            action_value_function[action] = discount_factor * self.value_function[next_state[0]][next_state[1]]\n",
    "            list_next_state.append(next_state)\n",
    "            if(hit_the_wall):\n",
    "                action_value_function[action] = action_value_function[action] - 2 * abs(current_reward) # negative reward\n",
    "            else:\n",
    "                action_value_function[action] = action_value_function[action] + current_reward\n",
    "        best_action = np.argmax(action_value_function)\n",
    "        max_action_value_function = action_value_function[best_action]\n",
    "        next_state = list_next_state[best_action]\n",
    "        \n",
    "        return best_action, max_action_value_function, next_state\n",
    "    \n",
    "    def value_iteration(self, num_iterations = 5, discount_factor = 0.9):\n",
    "        # Initialize value function\n",
    "        self._initialize_value_function()\n",
    "        for itr in range(num_iterations):\n",
    "            x_route = []\n",
    "            y_route = []\n",
    "            k = 0\n",
    "            k_max = self.X * self.Y\n",
    "            previous_state_index = self.origin # initializing as origin\n",
    "            x_cur, y_cur = np.unravel_index(self.origin, shape = self.map_shape) # get current (x,y) from origin index\n",
    "            soc_cur = self.start_soc\n",
    "            time_cur = self.start_time\n",
    "            current_state = (x_cur, y_cur, time_cur, soc_cur)\n",
    "            while(previous_state_index != self.destination):\n",
    "                # can record policy here by storing the route\n",
    "                x_route.append(x_cur)\n",
    "                y_route.append(y_cur)\n",
    "\n",
    "                # Find the best action for the current state\n",
    "                best_action, max_action_value_function, next_state = self._find_best_action(current_state=current_state, \n",
    "                                                                                            discount_factor=discount_factor)\n",
    "                self.value_function[x_cur][y_cur] = max_action_value_function\n",
    "                current_state = next_state # updating the current state as next state reached after taking the best action\n",
    "                \n",
    "                previous_state_index = np.ravel_multi_index((x_cur, y_cur), self.map_shape) # updating the previous state index\n",
    "                x_cur, y_cur, time_cur, soc_cur = current_state # updating the current state variables\n",
    "                \n",
    "                # Check if the number of steps is less than k_max\n",
    "                k = k + 1 # step increment\n",
    "                if(k == k_max):\n",
    "                    print(\"Maximum steps reached!!\")\n",
    "                    break\n",
    "\n",
    "        return x_route, y_route\n",
    "\n"
   ]
  },
  {
   "cell_type": "code",
   "execution_count": 3,
   "metadata": {
    "id": "Xw5acQUpPKlT"
   },
   "outputs": [],
   "source": [
    "# Testing the environment\n",
    "m = EVRoutePlanning_ValueIteration(X=25, Y=25, grid_length=10, num_chargers=15)"
   ]
  },
  {
   "cell_type": "code",
   "execution_count": 4,
   "metadata": {
    "colab": {
     "base_uri": "https://localhost:8080/",
     "height": 441
    },
    "id": "WBUBM5vXhPqK",
    "outputId": "dddd3185-dd61-43c7-838f-9a3f938ad562"
   },
   "outputs": [
    {
     "data": {
      "image/png": "[encoded data removed]",
      "text/plain": [
       "<Figure size 400x400 with 1 Axes>"
      ]
     },
     "metadata": {},
     "output_type": "display_data"
    }
   ],
   "source": [
    "# Plot the map with the location of all charging stations\n",
    "fig, ax = plt.subplots(figsize=(6, 6))\n",
    "\n",
    "ax.imshow(m.map, cmap = 'binary')\n",
    "ax.invert_yaxis()\n",
    "ax.set_title('Location of Charging Stations', fontsize = 15)\n",
    "ax.set_xlabel('X', fontsize = 13)\n",
    "ax.set_ylabel('Y', fontsize = 13)\n",
    "fig.tight_layout()\n",
    "fig.show()"
   ]
  },
  {
   "cell_type": "code",
   "execution_count": 5,
   "metadata": {
    "id": "ERKEwRduNVZ_"
   },
   "outputs": [],
   "source": [
    "# Generate the wait time distribution with hour for each charging station\n",
    "m.generate_wait_time_distribution_per_charger(prob_peak_hour=[1/24] * 24 , list_sd_hours=[3,4], list_peak_wait_time=[20,25,30], prob_peak_wait_time=[0.3,0.4,0.3])"
   ]
  },
  {
   "cell_type": "code",
   "execution_count": 6,
   "metadata": {
    "id": "X07Ddmn7NVit"
   },
   "outputs": [],
   "source": [
    "# Sample an origin-destination pair\n",
    "o, d = np.random.choice(np.arange(m.X * m.Y), 2)\n",
    "date = datetime.fromisoformat(\"2020-03-01-09\")"
   ]
  },
  {
   "cell_type": "code",
   "execution_count": 7,
   "metadata": {
    "id": "C1Jbs5LkuO_c"
   },
   "outputs": [],
   "source": [
    "m.create_journey(origin=o, destination=d, start_time=date, start_soc=0.8, desired_soc=0.5, vehicle_range=180)"
   ]
  },
  {
   "cell_type": "code",
   "execution_count": 8,
   "metadata": {
    "id": "hjJBW1IOuPGM"
   },
   "outputs": [],
   "source": [
    "# Initialize the position rewards based on origin-destination\n",
    "m.initialize_position_rewards(0.1, 2)"
   ]
  },
  {
   "cell_type": "code",
   "execution_count": null,
   "metadata": {
    "colab": {
     "base_uri": "https://localhost:8080/",
     "height": 385
    },
    "id": "J3oSj0f0VCLI",
    "outputId": "ed1dea86-09e5-4066-d5b0-f8357efdd25d"
   },
   "outputs": [
    {
     "data": {
      "image/png": "[encoded data removed]",
      "text/plain": [
       "<Figure size 432x432 with 2 Axes>"
      ]
     },
     "metadata": {
      "needs_background": "light"
     },
     "output_type": "display_data"
    }
   ],
   "source": [
    "# Plot the position rewards for each location\n",
    "# Test out various hyperparameter choices and how they influence the position rewards\n",
    "fig, ax1 = plt.subplots(figsize=(6, 6))\n",
    "\n",
    "pos = ax1.imshow(m.position_reward.T)\n",
    "ax1.invert_yaxis()\n",
    "ax1.set_title('Position Rewards for each Location', fontsize = 15)\n",
    "ax1.set_xlabel('X', fontsize = 13)\n",
    "ax1.set_ylabel('Y', fontsize = 13)\n",
    "fig.tight_layout()\n",
    "fig.colorbar(pos, ax=ax1, shrink=0.9)\n",
    "fig.show()"
   ]
  },
  {
   "cell_type": "code",
   "execution_count": 12,
   "metadata": {
    "colab": {
     "base_uri": "https://localhost:8080/"
    },
    "id": "4RGU0O5gy2o1",
    "outputId": "eed09f22-7511-4971-f10f-ac60393d4ead"
   },
   "outputs": [
    {
     "name": "stdout",
     "output_type": "stream",
     "text": [
      "Maximum steps reached!!\n"
     ]
    }
   ],
   "source": [
    "# Get the optimal policy/route using value iteration approach\n",
    "policy = m.value_iteration(num_iterations=1, discount_factor=0.9)"
   ]
  },
  {
   "cell_type": "code",
   "execution_count": null,
   "metadata": {
    "colab": {
     "base_uri": "https://localhost:8080/",
     "height": 441
    },
    "id": "yB_i2wN3y2zb",
    "outputId": "490e63ef-5d6e-4173-bbe0-feafed68531d"
   },
   "outputs": [
    {
     "data": {
      "image/png": "[encoded data removed]",
      "text/plain": [
       "<Figure size 432x432 with 1 Axes>"
      ]
     },
     "metadata": {
      "needs_background": "light"
     },
     "output_type": "display_data"
    }
   ],
   "source": [
    "# Plot the route\n",
    "fig, ax1 = plt.subplots(figsize=(6, 6))\n",
    "\n",
    "# Plot the route using actions\n",
    "ax1.plot(policy[0], policy[1])\n",
    "\n",
    "# Plot the origin\n",
    "o_x, o_y = np.unravel_index(o, m.map_shape)\n",
    "ax1.scatter(o_x, o_y, color = 'orange', label = 'Origin')\n",
    "\n",
    "# Plot the destination\n",
    "d_x, d_y = np.unravel_index(d, m.map_shape)\n",
    "ax1.scatter(d_x, d_y, color = 'red', label = 'Destination')\n",
    "\n",
    "# Plot the charging stations\n",
    "c_x, c_y = np.unravel_index(m.charging_stations, m.map_shape)\n",
    "ax1.scatter(c_x, c_y, color = 'black', label = 'Charging Station', marker = '*')\n",
    "\n",
    "ax1.set_title('Optimal Policy/Route', fontsize = 15)\n",
    "ax1.set_xlabel('X', fontsize = 13)\n",
    "ax1.set_ylabel('Y', fontsize = 13)\n",
    "ax1.legend()\n",
    "fig.tight_layout()\n",
    "fig.show()"
   ]
  },
  {
   "cell_type": "code",
   "execution_count": null,
   "metadata": {
    "colab": {
     "base_uri": "https://localhost:8080/",
     "height": 385
    },
    "id": "T-ipTie5eZbR",
    "outputId": "890fc65f-1b89-4e0b-fece-a77e5a60bcfb"
   },
   "outputs": [
    {
     "data": {
      "image/png": "[encoded data removed]",
      "text/plain": [
       "<Figure size 432x432 with 2 Axes>"
      ]
     },
     "metadata": {
      "needs_background": "light"
     },
     "output_type": "display_data"
    }
   ],
   "source": [
    "# Plot the value function for each location\n",
    "# Test out various hyperparameter choices and how they influence the position rewards\n",
    "fig, ax1 = plt.subplots(figsize=(6, 6))\n",
    "\n",
    "pos = ax1.imshow(m.value_function.T)\n",
    "ax1.invert_yaxis()\n",
    "ax1.set_title('Value Function for each Location', fontsize = 15)\n",
    "ax1.set_xlabel('X', fontsize = 13)\n",
    "ax1.set_ylabel('Y', fontsize = 13)\n",
    "fig.tight_layout()\n",
    "fig.colorbar(pos, ax=ax1, shrink=0.9)\n",
    "fig.show()"
   ]
  },
  {
   "cell_type": "code",
   "execution_count": null,
   "metadata": {
    "colab": {
     "base_uri": "https://localhost:8080/",
     "height": 354
    },
    "id": "-cbb1rQ9zEA5",
    "outputId": "62715417-5ac9-4217-801c-012d4ea5a76b"
   },
   "outputs": [
    {
     "data": {
      "image/png": "[encoded data removed]",
      "text/plain": [
       "<Figure size 432x360 with 1 Axes>"
      ]
     },
     "metadata": {
      "needs_background": "light"
     },
     "output_type": "display_data"
    }
   ],
   "source": [
    "# Sample plot for truncnorm distribution\n",
    "\n",
    "peak = 18 # enter any peak hour value from [0, 23] - if unaware, pls remember datatime stores hours from 0 to 23 :))\n",
    "rv = ss.truncnorm(-12/4, 11/4, peak, 4)\n",
    "prob = np.zeros(24)\n",
    "for i in range(-12, 12):\n",
    "    prob[(i + peak + 24) % 24] = rv.pdf(i + peak) / rv.pdf(peak) * 40\n",
    "\n",
    "fig, ax1 = plt.subplots(figsize=(6, 5))\n",
    "\n",
    "ax1.plot(np.arange(24), prob)\n",
    "ax1.set_title('Wait time Distribution (Peak wait time of 40 mins at 6 p.m.)', fontsize = 14)\n",
    "ax1.set_xlabel('Time of the day (in hours)', fontsize = 13)\n",
    "ax1.set_ylabel('Wait time (in minutes)', fontsize = 13)\n",
    "ax1.set_xlim([0,23])\n",
    "fig.show()"
   ]
  },
  {
   "cell_type": "code",
   "execution_count": null,
   "metadata": {
    "id": "AFczSDGazEGB"
   },
   "outputs": [],
   "source": []
  },
  {
   "cell_type": "code",
   "execution_count": null,
   "metadata": {
    "id": "W-tKnrIrOR9m"
   },
   "outputs": [],
   "source": []
  }
 ],
 "metadata": {
  "colab": {
   "provenance": []
  },
  "kernelspec": {
   "display_name": "Python 3",
   "language": "python",
   "name": "python3"
  },
  "language_info": {
   "codemirror_mode": {
    "name": "ipython",
    "version": 3
   },
   "file_extension": ".py",
   "mimetype": "text/x-python",
   "name": "python",
   "nbconvert_exporter": "python",
   "pygments_lexer": "ipython3",
   "version": "3.9.0"
  },
  "vscode": {
   "interpreter": {
    "hash": "147e0fad0828e2829dfb9aab4e3f1be6d10c3c50df9361cc18f4e91b899401fc"
   }
  }
 },
 "nbformat": 4,
 "nbformat_minor": 0
}
