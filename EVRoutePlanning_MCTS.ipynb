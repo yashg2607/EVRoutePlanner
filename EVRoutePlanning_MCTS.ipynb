{
 "cells": [
  {
   "cell_type": "code",
   "execution_count": null,
   "metadata": {
    "id": "Il-Wk5Sspx-L"
   },
   "outputs": [],
   "source": [
    "#### Script written by Yash Gupta ####"
   ]
  },
  {
   "cell_type": "code",
   "execution_count": 2,
   "metadata": {
    "id": "tWzokFbUp33j"
   },
   "outputs": [],
   "source": [
    "# Import libraries!\n",
    "import numpy as np\n",
    "import pandas as pd\n",
    "import scipy.stats as ss\n",
    "from datetime import datetime, timedelta\n",
    "import matplotlib.pyplot as plt"
   ]
  },
  {
   "cell_type": "code",
   "execution_count": null,
   "metadata": {
    "id": "vxhcNr-ep36p"
   },
   "outputs": [],
   "source": [
    "'''\n",
    "Below class creates an environment/map with each node as a charging station or just a freeway/road.\n",
    "Details for later additions to the class to be explained soon!!\n",
    "\n",
    "'''\n",
    "\n",
    "class EVRoutePlanning_MCTS:\n",
    "    def __init__(\n",
    "        self,\n",
    "        X: int = 10,\n",
    "        Y: int = 10,\n",
    "        grid_length: int = 10,\n",
    "        num_chargers: int = 10\n",
    "    ):\n",
    "        self.X = X # size of map/grid in X direction\n",
    "        self.Y = Y # size of map/grid in Y direction\n",
    "        self.grid_length = grid_length # length/size of grid(square) in miles\n",
    "        self.map_shape = (self.X, self.Y)\n",
    "        self.num_chargers = num_chargers # total number of chargers on the map\n",
    "        self.map, self.charging_stations = self._initialize_map_with_charging_stations()\n",
    "        self.charging_wait_times = {} # dictionary for wait times (in minutes) for every charger at each hour of the day\n",
    "        self.origin = 0 # index of origin on the map/grid\n",
    "        self.destination = 0 # index of destination on the map/grid\n",
    "        self.start_time = datetime.fromisoformat(\"2023-03-01\") # start time of the journey\n",
    "        self.start_soc = 0.85 # start soc of the journey\n",
    "        self.desired_soc = 0.5 # desired soc at the end of the journey\n",
    "        self.vehicle_range = 400 # maximum range of the car in miles\n",
    "        self.minimum_journey_time = 0 # minimum time(in minutes) required to reach the destination\n",
    "        self.max_soc = 0.95 # max soc upto which charging is recommended\n",
    "        self.min_soc = 0.15 # min soc going below which isn't recommended\n",
    "        self.charging_rate = 5 # charging rate = 5 miles/minute\n",
    "        self.chargers_on_route = np.array([], dtype = int) # to store the list of feasible chargers\n",
    "        self.reachable_chargers = {} # to store the list of reachable chargers from the current position/index\n",
    "        self.history = {} # dictionary to store the history of the route taken during MCTS\n",
    "        self.position_reward = np.zeros(shape = self.map_shape) # rewards based on positions on the map/grid\n",
    "        self.value_function = np.zeros(shape = self.map_shape) # value function for each positions on the map/grid\n",
    "\n",
    "    \n",
    "    def _initialize_map_with_charging_stations(self):\n",
    "        map = np.zeros(shape = self.map_shape, dtype = int)\n",
    "        charging_stations = np.random.choice(np.arange(self.X * self.Y - 1, dtype = int), \n",
    "                                             size = self.num_chargers, \n",
    "                                             replace = False)\n",
    "        for index in charging_stations:\n",
    "            i, j = np.unravel_index(index, shape = self.map_shape)\n",
    "            map[i][j] = 1\n",
    "        \n",
    "        return map, charging_stations\n",
    "    \n",
    "    def generate_wait_time_distribution_per_charger(self, prob_peak_hour, list_sd_hours, list_peak_wait_time, prob_peak_wait_time):\n",
    "        '''prob_peak_hour is a list of size 24 with probability values such that peak time(hour) \n",
    "        of the day for a charger occurs at hour \"i\" i.e., P(peak_hour == i) = prob_peak_hour[i]\n",
    "        Note - sum(prob_peak_hour) should be equal to 1, ofcourse!! \n",
    "        \n",
    "        list_sd_hours is a list of choices given for choosing the standard deviation of the \n",
    "        wait time distributon at each charger. An example of this list could be [2, 3, 4] or \n",
    "        [3, 4, 5] or even [4] which means a fixed standard deviation of 4 hours for each charger.\n",
    "\n",
    "        list_peak_wait_time is a list of choices given for choosing the expected wait time at \n",
    "        peak hour of the day for each charger. An example of this list could be [20, 30, 40, 50]\n",
    "        or [25, 30, 35, 40, 50, 60]. We can also give as input, in prob_peak_wait_time, the \n",
    "        probability for each wait time choices in the list to make it more realistic.\n",
    "        '''\n",
    "\n",
    "        list_hours = np.arange(24, dtype = int)\n",
    "        for charger_index in self.charging_stations:\n",
    "            peak_hour = np.random.choice(a = list_hours, \n",
    "                                         size = 1, \n",
    "                                         p = prob_peak_hour)\n",
    "            sd_hour = np.random.choice(a = list_sd_hours,\n",
    "                                       size = 1)\n",
    "            peak_wait_time = np.random.choice(a = list_peak_wait_time,\n",
    "                                              size = 1,\n",
    "                                              p = prob_peak_wait_time)\n",
    "\n",
    "            # create a random variable for wait time distribution\n",
    "            # Please refer to scipy.stats.truncnorm for details of the following distribution\n",
    "            a = -12 / sd_hour\n",
    "            b = 11 / sd_hour\n",
    "            rv = ss.truncnorm(a, b, loc = peak_hour, scale = sd_hour)\n",
    "            peak_pdf = rv.pdf(peak_hour)\n",
    "            for i in range(-12, 12):\n",
    "                hour = (i + peak_hour + 24) % 24\n",
    "                wait_time = int(rv.pdf(i + peak_hour) / peak_pdf * peak_wait_time)\n",
    "                key = str(charger_index) + ',' + str(hour[0])\n",
    "                self.charging_wait_times[key] = wait_time\n",
    "        return\n",
    "\n",
    "    def _calculate_minimum_journey_time(self, index_cur, soc_cur, index_next, soc_next):\n",
    "        '''This function calculates the minimum journey time required to reach \n",
    "        the next position from the current position by computing total distance to be \n",
    "        travelled, current soc, desired soc, vehicle range, average vehicle speed \n",
    "        and charging speed.'''\n",
    "\n",
    "        x_cur, y_cur = np.unravel_index(index_cur, shape = self.map_shape)\n",
    "        x_next, y_next = np.unravel_index(index_next, shape = self.map_shape)\n",
    "        distance_cur_next = np.sqrt((x_cur - x_next)**2 + (y_cur - y_next)**2)\n",
    "        total_journey_distance = distance_cur_next * self.grid_length # in miles\n",
    "        dest_soc = soc_cur - total_journey_distance / self.vehicle_range # soc at destination if not charged\n",
    "        required_charging_time = int((soc_next - dest_soc) * self.vehicle_range / self.charging_rate) # answer in minutes\n",
    "        minimum_journey_time = total_journey_distance + required_charging_time # in minutes - assuming average vehicle speed of 1 miles/min\n",
    "\n",
    "        return minimum_journey_time\n",
    "    \n",
    "    def create_journey(self, origin, destination, start_time, start_soc = 0.85, desired_soc = 0.5, \n",
    "                       vehicle_range = 220, region_of_influence = 0.1):\n",
    "        '''This function allows us to create a journey for an origin-destination pair. \n",
    "        It simply means that we now have a game/problem for our given environment/map \n",
    "        for which we need to do route planning/finding the best optimal policy.\n",
    "        \n",
    "        minimum_journey_time is estimated for the origin-destination pair'''\n",
    "\n",
    "        self.origin = origin\n",
    "        self.destination = destination\n",
    "        self.start_time = start_time\n",
    "        self.start_soc = start_soc\n",
    "        self.desired_soc = desired_soc\n",
    "        self.vehicle_range = vehicle_range\n",
    "        self.minimum_journey_time = self._calculate_minimum_journey_time(origin, start_soc, destination, desired_soc)\n",
    "\n",
    "        # Find the list of chargers on route of our current journey using origin-destination pair\n",
    "        self.chargers_on_route = self._find_chargers_on_route(region_of_influence = region_of_influence)\n",
    "        return\n",
    "    \n",
    "    def _find_chargers_on_route(self, region_of_influence = 0.1):\n",
    "        '''This function identifies the list of feasible chargers that lie within the \n",
    "        region of influence of our journey.'''\n",
    "        x_origin, y_origin = np.unravel_index(self.origin, shape = self.map_shape)\n",
    "        x_destination, y_destination = np.unravel_index(self.destination, shape = self.map_shape)\n",
    "        distance_org_dest = np.sqrt((x_origin - x_destination)**2 + (y_origin - y_destination)**2)\n",
    "        if(region_of_influence <= 1):\n",
    "            boundary_distance = distance_org_dest * (1 + 2 * region_of_influence) # if region_of_influence is a function of distance_org_dest\n",
    "        else:\n",
    "            boundary_distance = distance_org_dest + 2 * region_of_influence\n",
    "        \n",
    "        # Find the chargers that lie within the boundary distance\n",
    "        chargers_on_route = []\n",
    "        for index in self.charging_stations:\n",
    "            i, j = np.unravel_index(index, shape = self.map_shape)\n",
    "            distance_metric = np.sqrt((i - x_origin)**2 + (j - y_origin)**2) + np.sqrt((i - x_destination)**2 + (j - y_destination)**2)\n",
    "            if(distance_metric <= boundary_distance):\n",
    "                chargers_on_route.append(index)\n",
    "        \n",
    "        return np.array(chargers_on_route, dtype = int)\n",
    "    \n",
    "    def _reachable_chargers(self, current_state):\n",
    "        index_cur, time_cur, soc_cur = current_state # extracting the variables associated with the current state\n",
    "        x_cur, y_cur = np.unravel_index(index_cur, shape = self.map_shape)\n",
    "        if(soc_cur <= self.min_soc):\n",
    "            print(\"Trip not Possible for the given vehicle!\")\n",
    "        boundary_distance = (soc_cur - self.min_soc) * self.vehicle_range # answer in miles\n",
    "        x_destination, y_destination = np.unravel_index(self.destination, shape = self.map_shape)\n",
    "\n",
    "        list_reachable_charger = [] # list to store the reachable chargers\n",
    "        list_distance_to_destination = [] # distance to destination from the charger\n",
    "        for index in self.chargers_on_route:\n",
    "            i, j = np.unravel_index(index, shape = self.map_shape)\n",
    "            distance_cur = np.sqrt((i - x_cur)**2 + (j - y_cur)**2)\n",
    "            distance_cur = distance_cur * self.grid_length # conversion to miles\n",
    "            if(distance_cur <= boundary_distance):\n",
    "                list_reachable_charger.append(index)\n",
    "                distance_dest = np.sqrt((i - x_destination)**2 + (j - y_destination)**2)\n",
    "                list_distance_to_destination.append(distance_dest)\n",
    "        self.reachable_chargers[str(index_cur)] = (list_reachable_charger, list_distance_to_destination)\n",
    "        \n",
    "        return\n",
    "    \n",
    "    def _can_reach_destination(self, current_state):\n",
    "        '''Check if the vehicle can reach the destination from the current position with \n",
    "        an soc greater than or equal to the desired soc.'''\n",
    "        index_cur, time_cur, soc_cur = current_state # extracting the variables associated with the current state\n",
    "        x_cur, y_cur = np.unravel_index(index_cur, shape = self.map_shape)\n",
    "        max_distance = (soc_cur - self.desired_soc) * self.vehicle_range # answer in miles\n",
    "        x_destination, y_destination = np.unravel_index(self.destination, shape = self.map_shape)\n",
    "        distance_dest = np.sqrt((x_cur - x_destination)**2 + (y_cur - y_destination)**2)\n",
    "        distance_dest = distance_dest * self.grid_length # conversion to miles\n",
    "        if(distance_dest <= max_distance):\n",
    "            return True\n",
    "        else:\n",
    "            return False\n",
    "\n",
    "    \n",
    "    def _transition_model(self, current_state, index_next):\n",
    "        '''current_state is in the form of (index_cur, time_cur, soc_cur) and it returns \n",
    "        the final state in the same format after computing the time_next and soc_next for \n",
    "        the given next position'''\n",
    "\n",
    "        index_cur, time_cur, soc_cur = current_state # extracting the variables associated with the current state\n",
    "        x_cur, y_cur = np.unravel_index(index_cur, shape = self.map_shape)\n",
    "        x_next, y_next = np.unravel_index(index_next, shape = self.map_shape)\n",
    "        distance_cur_next = np.sqrt((x_cur - x_next)**2 + (y_cur - y_next)**2)\n",
    "        distance_cur_next = distance_cur_next * self.grid_length # in miles\n",
    "        time_next = time_cur + timedelta(minutes = distance_cur_next) # assuming average speed of 1 miles/min\n",
    "        soc_next = soc_cur - distance_cur_next / self.vehicle_range # soc at next position\n",
    "\n",
    "        # Just a check - Logically, code should never enter this if condition\n",
    "        if(soc_next < self.min_soc):\n",
    "            print(\"Invalid next position\")\n",
    "            return current_state\n",
    "        \n",
    "        key = str(index_next) + ',' + str(time_next.hour)\n",
    "        wait_time = self.charging_wait_times[key]\n",
    "        time_next = time_next + timedelta(minutes = wait_time) # add waiting time\n",
    "        charging_time = int((self.max_soc - soc_next) * self.vehicle_range / self.charging_rate) # answer in minutes\n",
    "        soc_next = self.max_soc # update the soc after charging is done!\n",
    "        time_next = time_next + timedelta(minutes = charging_time) # add charging time\n",
    "        buffer_time = np.random.choice([5.,10.]) # assuming 5 or 10 minutes buffer time for charging set up and hitting the road\n",
    "        time_next = time_next + timedelta(minutes = buffer_time)\n",
    "        # variables for the next state\n",
    "        next_state = (index_next, time_next, soc_next)\n",
    "\n",
    "        return next_state\n",
    "    \n",
    "    def _time_reward(self, current_state, index_next):\n",
    "        index_cur, time_cur, soc_cur = current_state # extracting the variables associated with the current state\n",
    "        # using transition model get the next state variables\n",
    "        index_next, time_next, soc_next = self._transition_model(current_state, index_next)\n",
    "\n",
    "        # Just a check - Logically, code should never enter this if condition\n",
    "        if(index_next == index_cur):\n",
    "            return -1000 # return a very low reward for no transition\n",
    "        \n",
    "        journey_time_till_next = (time_next - self.start_time) / timedelta(minutes = 1)\n",
    "        minimum_journey_time_remaining = self._calculate_minimum_journey_time(index_next, soc_next, self.destination, self.desired_soc)\n",
    "        total_minimum_journey_time = journey_time_till_next + minimum_journey_time_remaining\n",
    "        \n",
    "        # calculate the time reward\n",
    "        time_reward = 1 - (total_minimum_journey_time / self.minimum_journey_time)\n",
    "\n",
    "        return time_reward\n",
    "    \n",
    "    def _distance_reward(self, index_cur, index_next):\n",
    "        x_cur, y_cur = np.unravel_index(index_cur, shape = self.map_shape)\n",
    "        x_next, y_next = np.unravel_index(index_next, shape = self.map_shape)\n",
    "        x_origin, y_origin = np.unravel_index(self.origin, shape = self.map_shape)\n",
    "        x_destination, y_destination = np.unravel_index(self.destination, shape = self.map_shape)\n",
    "\n",
    "        # compute the required distance values\n",
    "        distance_next_dest = np.sqrt((x_next - x_destination)**2 + (y_next - y_destination)**2)\n",
    "        distance_cur_dest = np.sqrt((x_cur - x_destination)**2 + (y_cur - y_destination)**2)\n",
    "        distance_org_dest = np.sqrt((x_origin - x_destination)**2 + (y_origin - y_destination)**2)\n",
    "\n",
    "        # To-Check: Test both the choices in getting the results\n",
    "        # Choice 1\n",
    "        # distance_reward = 1 - (distance_next_dest / distance_cur_dest) # using current position as reference\n",
    "        # Choice 2\n",
    "        distance_reward = 1 - (distance_next_dest / distance_org_dest) # using origin as reference\n",
    "\n",
    "        return distance_reward\n",
    "\n",
    "    \n",
    "    # def _choose_next_state(self, current_state):\n",
    "    #     index_cur, time_cur, soc_cur = current_state # extracting the variables associated with the current state\n",
    "    #     x_cur, y_cur = np.unravel_index(index_cur, shape = self.map_shape)\n",
    "    #     list_reachable_charger, list_distance_to_destination = self.reachable_chargers[str(index_cur)]\n",
    "    #     num_reachable_charger = len(list_reachable_charger)\n",
    "    #     # To-Do: Use one-step lookahead to compute the value function for each action/reachable charger\n",
    "    #     list_value_function = np.zeros(num_reachable_charger) # currently it is zero\n",
    "    #     list_reward = np.zeros(num_reachable_charger)\n",
    "    #     list_time_to\n",
    "\n",
    "\n",
    "    #     for i in range(num_reachable_charger):\n",
    "    #         distance_reward = self._distance_reward(index_cur, list_reachable_charger[i])\n",
    "    #         time_reward = self._time_reward(current_state, list_reachable_charger[i])\n",
    "\n",
    "    # def monte_carlo_tree_search(self, num_iterations = 100):\n",
    "    #     for itr in range(num_iterations):\n",
    "    #         current_state = (self.origin, self.start_time, self.start_soc) # initialize the current state\n",
    "    #         current_history = str(current_state)\n",
    "    #         while(current_history in self.history):\n",
    "\n",
    "\n",
    "            \n",
    "## ------------------------- Everything below is old code ----------------------------\n",
    "\n",
    "\n",
    "\n",
    "\n",
    "        \n",
    "    def initialize_position_rewards(self, weight_L1 = 0.1, dest_over_org = 1):\n",
    "        '''origin takes the index of charging station from which we start our journey while\n",
    "        destination takes the index of the charging station where we end our journey. To get \n",
    "        (x, y) pair of coordinates we will unravel these indices. To initialize the rewards \n",
    "        based on positions, we need to define a distance metric. Our goal is to have higher \n",
    "        rewards for positions closer to the shortest path b/w origin and destination and lower \n",
    "        or even negative rewards for positions farther from the shortest path.\n",
    "        \n",
    "        weight_L1 is a hyperparameter that controls the weights of L1 distance relative to \n",
    "        L2 distance in computing the rewards for each position. Note that the value of \n",
    "        weight_L1 should be in the range [0,1]. default value is 0.1\n",
    "        \n",
    "        dest_over_org is another hyperparameter that controls the relative importance of \n",
    "        closing in on destination while moving away from origin. Rationally, we would want \n",
    "        dest_over_org > 1 at all times. default value is 1'''\n",
    "\n",
    "        x_origin, y_origin = np.unravel_index(self.origin, shape = self.map_shape)\n",
    "        x_destination, y_destination = np.unravel_index(self.destination, shape = self.map_shape)\n",
    "        L1_distance_org_dest = abs(x_origin - x_destination) + abs(y_origin - y_destination)\n",
    "        L2_distance_org_dest = np.sqrt((x_origin - x_destination)**2 + (y_origin - y_destination)**2)\n",
    "        \n",
    "        for i in range(self.X):\n",
    "            for j in range(self.Y):\n",
    "                L1_distance_cur_pos_dest = abs(i - x_destination) + abs(j - y_destination)\n",
    "                L2_distance_cur_pos_dest = np.sqrt((i - x_destination)**2 + (j - y_destination)**2)\n",
    "                dest_reward = weight_L1 * (L1_distance_org_dest - L1_distance_cur_pos_dest) + (1 - weight_L1) * (L2_distance_org_dest - L2_distance_cur_pos_dest)\n",
    "                dest_reward = weight_L1 * np.exp((L1_distance_org_dest - L1_distance_cur_pos_dest) / L1_distance_org_dest * dest_over_org) + (1 - weight_L1) * np.exp((L2_distance_org_dest - L2_distance_cur_pos_dest) / L2_distance_org_dest * dest_over_org)\n",
    "                L1_distance_cur_pos_org = abs(i - x_origin) + abs(j - y_origin)\n",
    "                L2_distance_cur_pos_org = np.sqrt((i - x_origin)**2 + (j - y_origin)**2)\n",
    "                org_reward = weight_L1 * (L1_distance_org_dest - L1_distance_cur_pos_org) + (1 - weight_L1) * (L2_distance_org_dest - L2_distance_cur_pos_org)\n",
    "                org_reward = weight_L1 * np.exp((L1_distance_org_dest - L1_distance_cur_pos_org) / L1_distance_org_dest) + (1 - weight_L1) * np.exp((L2_distance_org_dest - L2_distance_cur_pos_org) / L2_distance_org_dest)\n",
    "                cur_pos_reward = dest_over_org * dest_reward + org_reward\n",
    "                cur_pos_reward = dest_reward + org_reward\n",
    "                self.position_reward[i][j] = cur_pos_reward\n",
    "        \n",
    "        # Normalize the rewards based in the rewards range for time_reward and soc_reward\n",
    "        self.position_reward = self.position_reward / np.max(self.position_reward) * 100\n",
    "        self.position_reward[x_destination][y_destination] = 2 * (np.max(self.position_reward) - np.min(self.position_reward)) # very high reward for destination\n",
    "        self.position_reward[x_origin][y_origin] = 0\n",
    "\n",
    "        # Initialize value function using position rewards\n",
    "        discount_factor = 0.8 # choice based on how much we want our positions rewards to spread and act as a route guide\n",
    "        self._initialize_value_function(discount_factor = discount_factor)\n",
    "\n",
    "        return\n",
    "    \n",
    "    def _initialize_value_function(self, discount_factor = 0.8):\n",
    "        self.value_function = np.copy(self.position_reward) # initialize value function as position rewards\n",
    "        num_iterations = 2 * int(1/(1 - discount_factor))\n",
    "        for itr in range(num_iterations):\n",
    "            for i in range(self.X):\n",
    "                for j in range(self.Y):\n",
    "                    current_state = (i, j, self.start_time, self.start_soc)\n",
    "                    best_action, max_action_value_function, next_state = self._find_best_action(current_state=current_state, \n",
    "                                                                                            discount_factor=discount_factor, \n",
    "                                                                                            initializing_value_function=True)\n",
    "                    self.value_function[i][j] = max_action_value_function\n",
    "\n",
    "        return\n",
    "\n",
    "    \n",
    "    \n",
    "    def _reward_for_state(self, state):\n",
    "        x, y, time, soc = state\n",
    "\n",
    "        # reward based on the soc of the state\n",
    "        soc_reward = (soc - self.min_soc) / (self.max_soc - self.min_soc) * 100\n",
    "\n",
    "        # required parameters for calculating time based reward\n",
    "        time_travelled_till_now = int((time - self.start_time) / timedelta(minutes=1)) # in minutes\n",
    "\n",
    "        x_destination, y_destination = np.unravel_index(self.destination, shape = self.map_shape)\n",
    "        L1_distance_state_dest = abs(x - x_destination) + abs(y - y_destination)\n",
    "        total_journey_distance = L1_distance_state_dest * self.grid_length # in miles\n",
    "        dest_soc = soc - total_journey_distance / self.vehicle_range # soc at destination if not charged\n",
    "        required_charging_time = int((self.desired_soc - dest_soc) * self.vehicle_range / self.charging_rate) # answer in minutes\n",
    "        state_journey_time = total_journey_distance + required_charging_time # in minutes\n",
    "\n",
    "        # reward based on the time of the state\n",
    "        importance_of_time = 5 # hyperparameter \n",
    "        time_reward = 100 * np.exp((self.minimum_journey_time - time_travelled_till_now - state_journey_time) / self.minimum_journey_time * importance_of_time)\n",
    "        # To-Do: Think more about the function or time reward\n",
    "\n",
    "        return soc_reward + time_reward\n",
    "    \n",
    "    def _find_best_action(self, current_state, discount_factor, initializing_value_function = False):\n",
    "        '''Returns the best action to take for the current state after calculating the values \n",
    "        of action value function for each action'''\n",
    "\n",
    "        x_cur, y_cur, time_cur, soc_cur = current_state # extracting the variables associated with the current state\n",
    "        if(initializing_value_function):\n",
    "            current_reward = self.position_reward[x_cur][y_cur] # only position rewards if initializing value function\n",
    "        else:\n",
    "            current_reward = self.position_reward[x_cur][y_cur] + self._reward_for_state(current_state)\n",
    "        \n",
    "        action_value_function = np.zeros(4) # value function for all 4 possible actions\n",
    "        list_next_state = [] # store next state for each action\n",
    "        for action in range(4):\n",
    "            next_state, hit_the_wall = self._transition_model(current_state, action)\n",
    "            action_value_function[action] = discount_factor * self.value_function[next_state[0]][next_state[1]]\n",
    "            list_next_state.append(next_state)\n",
    "            if(hit_the_wall):\n",
    "                action_value_function[action] = action_value_function[action] - 2 * abs(current_reward) # negative reward\n",
    "            else:\n",
    "                action_value_function[action] = action_value_function[action] + current_reward\n",
    "        best_action = np.argmax(action_value_function)\n",
    "        max_action_value_function = action_value_function[best_action]\n",
    "        next_state = list_next_state[best_action]\n",
    "        \n",
    "        return best_action, max_action_value_function, next_state\n",
    "    \n",
    "    def value_iteration(self, num_iterations = 5, discount_factor = 0.9):\n",
    "        # Initialize value function\n",
    "        self._initialize_value_function()\n",
    "        for itr in range(num_iterations):\n",
    "            x_route = []\n",
    "            y_route = []\n",
    "            k = 0\n",
    "            k_max = self.X * self.Y\n",
    "            previous_state_index = self.origin # initializing as origin\n",
    "            x_cur, y_cur = np.unravel_index(self.origin, shape = self.map_shape) # get current (x,y) from origin index\n",
    "            soc_cur = self.start_soc\n",
    "            time_cur = self.start_time\n",
    "            current_state = x_cur, y_cur, time_cur, soc_cur\n",
    "            while(previous_state_index != self.destination):\n",
    "                # can record policy here by storing the route\n",
    "                x_route.append(x_cur)\n",
    "                y_route.append(y_cur)\n",
    "\n",
    "                # Find the best action for the current state\n",
    "                best_action, max_action_value_function, next_state = self._find_best_action(current_state=current_state, \n",
    "                                                                                            discount_factor=discount_factor)\n",
    "                self.value_function[x_cur][y_cur] = max_action_value_function\n",
    "                current_state = next_state # updating the current state as next state reached after taking the best action\n",
    "                \n",
    "                previous_state_index = np.ravel_multi_index((x_cur, y_cur), self.map_shape) # updating the previous state index\n",
    "                x_cur, y_cur, time_cur, soc_cur = current_state # updating the current state variables\n",
    "                \n",
    "                # Check if the number of steps is less than k_max\n",
    "                k = k + 1 # step increment\n",
    "                if(k == k_max):\n",
    "                    print(\"Maximum steps reached!!\")\n",
    "                    break\n",
    "\n",
    "        return x_route, y_route\n",
    "    \n",
    "    \n",
    "    \n",
    "\n",
    "\n"
   ]
  },
  {
   "cell_type": "code",
   "execution_count": 14,
   "metadata": {},
   "outputs": [
    {
     "data": {
      "text/plain": [
       "datetime.datetime(2020, 3, 1, 9, 0)"
      ]
     },
     "execution_count": 14,
     "metadata": {},
     "output_type": "execute_result"
    }
   ],
   "source": [
    "date = datetime.fromisoformat(\"2020-03-01-09\")\n",
    "date"
   ]
  },
  {
   "cell_type": "code",
   "execution_count": 16,
   "metadata": {},
   "outputs": [],
   "source": [
    "x = date + timedelta(minutes = 10.)"
   ]
  },
  {
   "cell_type": "code",
   "execution_count": null,
   "metadata": {
    "id": "Xw5acQUpPKlT"
   },
   "outputs": [],
   "source": [
    "# Testing the environment\n",
    "m = EVRoutePlanning_MCTS(X=25, Y=25, grid_length=10, num_chargers=15)"
   ]
  },
  {
   "cell_type": "code",
   "execution_count": null,
   "metadata": {
    "colab": {
     "base_uri": "https://localhost:8080/",
     "height": 441
    },
    "id": "WBUBM5vXhPqK",
    "outputId": "dddd3185-dd61-43c7-838f-9a3f938ad562"
   },
   "outputs": [
    {
     "data": {
      "image/png": "[encoded data removed]",
      "text/plain": [
       "<Figure size 432x432 with 1 Axes>"
      ]
     },
     "metadata": {
      "needs_background": "light"
     },
     "output_type": "display_data"
    }
   ],
   "source": [
    "# Plot the map with the location of all charging stations\n",
    "fig, ax = plt.subplots(figsize=(6, 6))\n",
    "\n",
    "ax.imshow(m.map, cmap = 'binary')\n",
    "ax.invert_yaxis()\n",
    "ax.set_title('Location of Charging Stations', fontsize = 15)\n",
    "ax.set_xlabel('X', fontsize = 13)\n",
    "ax.set_ylabel('Y', fontsize = 13)\n",
    "fig.tight_layout()\n",
    "fig.show()"
   ]
  },
  {
   "cell_type": "code",
   "execution_count": null,
   "metadata": {
    "id": "ERKEwRduNVZ_"
   },
   "outputs": [],
   "source": [
    "# Generate the wait time distribution with hour for each charging station\n",
    "m.generate_wait_time_distribution_per_charger(prob_peak_hour=[1/24] * 24 , list_sd_hours=[3,4], list_peak_wait_time=[20,25,30], prob_peak_wait_time=[0.3,0.4,0.3])"
   ]
  },
  {
   "cell_type": "code",
   "execution_count": null,
   "metadata": {
    "id": "X07Ddmn7NVit"
   },
   "outputs": [],
   "source": [
    "# Sample an origin-destination pair\n",
    "o, d = np.random.choice(np.arange(m.X * m.Y), 2)\n",
    "date = datetime.fromisoformat(\"2020-03-01-09\")"
   ]
  },
  {
   "cell_type": "code",
   "execution_count": null,
   "metadata": {
    "id": "C1Jbs5LkuO_c"
   },
   "outputs": [],
   "source": [
    "m.create_journey(origin=o, destination=d, start_time=date, start_soc=0.8, desired_soc=0.5, vehicle_range=180)"
   ]
  },
  {
   "cell_type": "code",
   "execution_count": null,
   "metadata": {
    "id": "hjJBW1IOuPGM"
   },
   "outputs": [],
   "source": [
    "# Initialize the position rewards based on origin-destination\n",
    "m.initialize_position_rewards(0.1, 2)"
   ]
  },
  {
   "cell_type": "code",
   "execution_count": null,
   "metadata": {
    "colab": {
     "base_uri": "https://localhost:8080/",
     "height": 385
    },
    "id": "J3oSj0f0VCLI",
    "outputId": "ed1dea86-09e5-4066-d5b0-f8357efdd25d"
   },
   "outputs": [
    {
     "data": {
      "image/png": "[encoded data removed]",
      "text/plain": [
       "<Figure size 432x432 with 2 Axes>"
      ]
     },
     "metadata": {
      "needs_background": "light"
     },
     "output_type": "display_data"
    }
   ],
   "source": [
    "# Plot the position rewards for each location\n",
    "# Test out various hyperparameter choices and how they influence the position rewards\n",
    "fig, ax1 = plt.subplots(figsize=(6, 6))\n",
    "\n",
    "pos = ax1.imshow(m.position_reward.T)\n",
    "ax1.invert_yaxis()\n",
    "ax1.set_title('Position Rewards for each Location', fontsize = 15)\n",
    "ax1.set_xlabel('X', fontsize = 13)\n",
    "ax1.set_ylabel('Y', fontsize = 13)\n",
    "fig.tight_layout()\n",
    "fig.colorbar(pos, ax=ax1, shrink=0.9)\n",
    "fig.show()"
   ]
  },
  {
   "cell_type": "code",
   "execution_count": null,
   "metadata": {
    "colab": {
     "base_uri": "https://localhost:8080/"
    },
    "id": "4RGU0O5gy2o1",
    "outputId": "eed09f22-7511-4971-f10f-ac60393d4ead"
   },
   "outputs": [
    {
     "name": "stdout",
     "output_type": "stream",
     "text": [
      "Maximum steps reached!!\n"
     ]
    }
   ],
   "source": [
    "# Get the optimal policy/route using value iteration approach\n",
    "policy = m.value_iteration(num_iterations=5, discount_factor=0.9)"
   ]
  },
  {
   "cell_type": "code",
   "execution_count": null,
   "metadata": {
    "colab": {
     "base_uri": "https://localhost:8080/",
     "height": 441
    },
    "id": "yB_i2wN3y2zb",
    "outputId": "490e63ef-5d6e-4173-bbe0-feafed68531d"
   },
   "outputs": [
    {
     "data": {
      "image/png": "[encoded data removed]",
      "text/plain": [
       "<Figure size 432x432 with 1 Axes>"
      ]
     },
     "metadata": {
      "needs_background": "light"
     },
     "output_type": "display_data"
    }
   ],
   "source": [
    "# Plot the route\n",
    "fig, ax1 = plt.subplots(figsize=(6, 6))\n",
    "\n",
    "# Plot the route using actions\n",
    "ax1.plot(policy[0], policy[1])\n",
    "\n",
    "# Plot the origin\n",
    "o_x, o_y = np.unravel_index(o, m.map_shape)\n",
    "ax1.scatter(o_x, o_y, color = 'orange', label = 'Origin')\n",
    "\n",
    "# Plot the destination\n",
    "d_x, d_y = np.unravel_index(d, m.map_shape)\n",
    "ax1.scatter(d_x, d_y, color = 'red', label = 'Destination')\n",
    "\n",
    "# Plot the charging stations\n",
    "c_x, c_y = np.unravel_index(m.charging_stations, m.map_shape)\n",
    "ax1.scatter(c_x, c_y, color = 'black', label = 'Charging Station', marker = '*')\n",
    "\n",
    "ax1.set_title('Optimal Policy/Route', fontsize = 15)\n",
    "ax1.set_xlabel('X', fontsize = 13)\n",
    "ax1.set_ylabel('Y', fontsize = 13)\n",
    "ax1.legend()\n",
    "fig.tight_layout()\n",
    "fig.show()"
   ]
  },
  {
   "cell_type": "code",
   "execution_count": null,
   "metadata": {
    "colab": {
     "base_uri": "https://localhost:8080/",
     "height": 385
    },
    "id": "T-ipTie5eZbR",
    "outputId": "890fc65f-1b89-4e0b-fece-a77e5a60bcfb"
   },
   "outputs": [
    {
     "data": {
      "image/png": "[encoded data removed]",
      "text/plain": [
       "<Figure size 432x432 with 2 Axes>"
      ]
     },
     "metadata": {
      "needs_background": "light"
     },
     "output_type": "display_data"
    }
   ],
   "source": [
    "# Plot the value function for each location\n",
    "# Test out various hyperparameter choices and how they influence the position rewards\n",
    "fig, ax1 = plt.subplots(figsize=(6, 6))\n",
    "\n",
    "pos = ax1.imshow(m.value_function.T)\n",
    "ax1.invert_yaxis()\n",
    "ax1.set_title('Value Function for each Location', fontsize = 15)\n",
    "ax1.set_xlabel('X', fontsize = 13)\n",
    "ax1.set_ylabel('Y', fontsize = 13)\n",
    "fig.tight_layout()\n",
    "fig.colorbar(pos, ax=ax1, shrink=0.9)\n",
    "fig.show()"
   ]
  },
  {
   "cell_type": "code",
   "execution_count": null,
   "metadata": {
    "colab": {
     "base_uri": "https://localhost:8080/",
     "height": 354
    },
    "id": "-cbb1rQ9zEA5",
    "outputId": "62715417-5ac9-4217-801c-012d4ea5a76b"
   },
   "outputs": [
    {
     "data": {
      "image/png": "[encoded data removed]",
      "text/plain": [
       "<Figure size 432x360 with 1 Axes>"
      ]
     },
     "metadata": {
      "needs_background": "light"
     },
     "output_type": "display_data"
    }
   ],
   "source": [
    "# Sample plot for truncnorm distribution\n",
    "\n",
    "peak = 18 # enter any peak hour value from [0, 23] - if unaware, pls remember datatime stores hours from 0 to 23 :))\n",
    "rv = ss.truncnorm(-12/4, 11/4, peak, 4)\n",
    "prob = np.zeros(24)\n",
    "for i in range(-12, 12):\n",
    "    prob[(i + peak + 24) % 24] = rv.pdf(i + peak) / rv.pdf(peak) * 40\n",
    "\n",
    "fig, ax1 = plt.subplots(figsize=(6, 5))\n",
    "\n",
    "ax1.plot(np.arange(24), prob)\n",
    "ax1.set_title('Wait time Distribution (Peak wait time of 40 mins at 6 p.m.)', fontsize = 14)\n",
    "ax1.set_xlabel('Time of the day (in hours)', fontsize = 13)\n",
    "ax1.set_ylabel('Wait time (in minutes)', fontsize = 13)\n",
    "ax1.set_xlim([0,23])\n",
    "fig.show()"
   ]
  },
  {
   "cell_type": "code",
   "execution_count": null,
   "metadata": {
    "id": "AFczSDGazEGB"
   },
   "outputs": [],
   "source": []
  },
  {
   "cell_type": "code",
   "execution_count": null,
   "metadata": {
    "id": "W-tKnrIrOR9m"
   },
   "outputs": [],
   "source": []
  }
 ],
 "metadata": {
  "colab": {
   "provenance": []
  },
  "kernelspec": {
   "display_name": "Python 3",
   "language": "python",
   "name": "python3"
  },
  "language_info": {
   "codemirror_mode": {
    "name": "ipython",
    "version": 3
   },
   "file_extension": ".py",
   "mimetype": "text/x-python",
   "name": "python",
   "nbconvert_exporter": "python",
   "pygments_lexer": "ipython3",
   "version": "3.9.0"
  }
 },
 "nbformat": 4,
 "nbformat_minor": 1
}
